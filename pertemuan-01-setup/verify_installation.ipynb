{
 "cells": [
  {
   "cell_type": "code",
   "execution_count": 1,
   "id": "40144577-3729-41e3-84ea-74e8c868c570",
   "metadata": {},
   "outputs": [
    {
     "name": "stdout",
     "output_type": "stream",
     "text": [
      "numpy: OK, version = 2.1.2\n",
      "pandas: OK, version = 2.3.2\n",
      "sklearn: OK, version = 1.7.2\n",
      "skfuzzy: OK, version = 0.5.0\n",
      "cv2: OK, version = 4.12.0\n",
      "matplotlib: OK, version = 3.10.6\n",
      "nltk: OK, version = 3.9.1\n",
      "Python: 3.13.7 | packaged by Anaconda, Inc. | (main, Sep  9 2025, 19:54:37) [MSC v.1929 64 bit (AMD64)]\n"
     ]
    }
   ],
   "source": [
    "import sys\n",
    "import importlib\n",
    "\n",
    "packages = [\"numpy\", \"pandas\", \"sklearn\", \"skfuzzy\", \"cv2\", \"matplotlib\", \"nltk\"]\n",
    "\n",
    "for pkg in packages:\n",
    "    try:\n",
    "        m = importlib.import_module(pkg)\n",
    "        version = getattr(m, \"__version__\", \"unknown\")  # most packages use __version__\n",
    "        print(f\"{pkg}: OK, version = {version}\")\n",
    "    except Exception as e:\n",
    "        print(f\"{pkg}: ERROR - {e}\")\n",
    "\n",
    "print(\"Python:\", sys.version)"
   ]
  },
  {
   "cell_type": "code",
   "execution_count": null,
   "id": "d58578c6-2e6e-4f39-acea-644eb3ea10ba",
   "metadata": {},
   "outputs": [],
   "source": []
  }
 ],
 "metadata": {
  "kernelspec": {
   "display_name": "Python(ai_env)",
   "language": "python",
   "name": "ai_env"
  },
  "language_info": {
   "codemirror_mode": {
    "name": "ipython",
    "version": 3
   },
   "file_extension": ".py",
   "mimetype": "text/x-python",
   "name": "python",
   "nbconvert_exporter": "python",
   "pygments_lexer": "ipython3",
   "version": "3.13.7"
  }
 },
 "nbformat": 4,
 "nbformat_minor": 5
}
